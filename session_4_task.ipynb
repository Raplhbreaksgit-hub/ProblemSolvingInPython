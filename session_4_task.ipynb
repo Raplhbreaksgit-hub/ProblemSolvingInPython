{
  "nbformat": 4,
  "nbformat_minor": 0,
  "metadata": {
    "colab": {
      "provenance": []
    },
    "kernelspec": {
      "name": "python3",
      "display_name": "Python 3"
    },
    "language_info": {
      "name": "python"
    }
  },
  "cells": [
    {
      "cell_type": "markdown",
      "source": [
        "###`Problem 1:` Combine two lists index-wise(columns wise)\n",
        "\n",
        "Write a program to add two lists index-wise. Create a new list that contains the 0th index item from both the list, then the 1st index item, and so on till the last element. any leftover items will get added at the end of the new list.\n",
        "\n",
        "`Given List:`\n",
        "```\n",
        "list1 = [\"M\", \"na\", \"i\", \"Kh\"]\n",
        "list2 = [\"y\", \"me\", \"s\", \"an\"]\n",
        "```\n",
        "\n",
        "`Output:`\n",
        "```\n",
        "[['M','y'], ['na', me'], ['i', 's'], ['Kh', 'an']]\n",
        "```"
      ],
      "metadata": {
        "id": "kLZ_vCeE0lsM"
      }
    },
    {
      "cell_type": "code",
      "source": [
        "L=[]\n",
        "for i,j in zip(list1,list2):\n",
        "  L.append([i,j])\n",
        "print(L)\n",
        "[[i,j] for i,j in zip(list1,list2)]\n"
      ],
      "metadata": {
        "id": "cDO3Yv6p0nnG",
        "colab": {
          "base_uri": "https://localhost:8080/"
        },
        "outputId": "d575a078-80e3-432e-90a0-60fa612aa6a6"
      },
      "execution_count": 6,
      "outputs": [
        {
          "output_type": "stream",
          "name": "stdout",
          "text": [
            "[['M', 'y'], ['na', 'me'], ['i', 's'], ['Kh', 'an']]\n"
          ]
        },
        {
          "output_type": "execute_result",
          "data": {
            "text/plain": [
              "[['M', 'y'], ['na', 'me'], ['i', 's'], ['Kh', 'an']]"
            ]
          },
          "metadata": {},
          "execution_count": 6
        }
      ]
    },
    {
      "cell_type": "markdown",
      "source": [
        "### `Problem 2:` Add new item to list after a specified item\n",
        "Write a program to add item 7000 after 6000 in the following Python List\n",
        "```\n",
        "list1 = [10, 20, [300, 400, [5000, 6000], 500], 30, 40]\n",
        "```\n",
        "`Output:`\n",
        "```\n",
        "[10, 20, [300, 400, [5000, 6000, 7000], 500], 30, 40]\n",
        "```"
      ],
      "metadata": {
        "id": "bnRwRgf_0qLu"
      }
    },
    {
      "cell_type": "code",
      "source": [
        "list1 = [10, 20, [300, 400, [5000, 6000], 500], 30, 40]\n",
        "list1[2][2].insert(2,7000)\n",
        "list1"
      ],
      "metadata": {
        "id": "yW5lLPns00q9",
        "colab": {
          "base_uri": "https://localhost:8080/"
        },
        "outputId": "ab72a279-3891-4df2-d7ed-397488980637"
      },
      "execution_count": 8,
      "outputs": [
        {
          "output_type": "execute_result",
          "data": {
            "text/plain": [
              "[10, 20, [300, 400, [5000, 6000, 7000], 500], 30, 40]"
            ]
          },
          "metadata": {},
          "execution_count": 8
        }
      ]
    },
    {
      "cell_type": "markdown",
      "source": [
        "###`Problem 3:` Update no of items available\n",
        "\n",
        "Suppose you are given a list of candy and another list of same size representing no of items of respective candy.\n",
        "\n",
        "i.e -  \n",
        "```\n",
        "candy_list = ['Jelly Belly','Kit Kat','Double Bubble','Milky Way','Three Musketeers']\n",
        "no_of_items = [10,20,34,74,32]\n",
        "```\n",
        "\n",
        "Write a program to show no. of items of each candy type.\n",
        "\n",
        "`Output:`\n",
        "\n",
        "```\n",
        "Jelly Belly-10\n",
        "Kit Kat-20\n",
        "Double Bubble-34\n",
        "Milky Way-74\n",
        "Three Musketeers-32\n",
        "\n",
        "```"
      ],
      "metadata": {
        "id": "w7fC8oHk02fH"
      }
    },
    {
      "cell_type": "code",
      "source": [],
      "metadata": {
        "id": "gg5JEX1a09q8"
      },
      "execution_count": null,
      "outputs": []
    },
    {
      "cell_type": "markdown",
      "source": [
        "###`Problem 4:` Running Sum on list\n",
        "Write a program to print a list after performing running sum on it.\n",
        "\n",
        "i.e:\n",
        "\n",
        "`Input:`\n",
        "```\n",
        "list1 = [1,2,3,4,5,6]\n",
        "```\n",
        "`Output:`\n",
        "```\n",
        "[1,3,6,10,15,21]\n",
        "```"
      ],
      "metadata": {
        "id": "mFGZAvnB1D3N"
      }
    },
    {
      "cell_type": "code",
      "source": [
        "L=[]\n",
        "list1 = [1,2,3,4,5,6]\n",
        "L.append(list1[0])\n",
        "for i in range(1,len(list1)):\n",
        "  L.append(list1[i]+L[i-1])\n",
        "print(L)"
      ],
      "metadata": {
        "id": "8LPS6DaD1FTs",
        "colab": {
          "base_uri": "https://localhost:8080/"
        },
        "outputId": "c330eccc-3ecc-4680-f566-c391b1d1acc4"
      },
      "execution_count": 14,
      "outputs": [
        {
          "output_type": "stream",
          "name": "stdout",
          "text": [
            "[1, 3, 6, 10, 15, 21]\n"
          ]
        }
      ]
    },
    {
      "cell_type": "markdown",
      "source": [
        "###`Problem 5:` You are given a list of integers. You are asked to make a list by running through elements of the list by adding all elements greater and itself.\n",
        "\n",
        "i.e. Say given list is `[2,4,6,10,1]`\n",
        "resultant list will be `[22,20,10,23]`.\n",
        "\n",
        "For 1st element `2` ->> these are greater `(4+6+10)` values and `2` itself so on adding becomes `22`.\n",
        "\n",
        "For 2nd element `4` ->> greater elements are `(6, 10)` and `4` itself, so on adding `20`\n",
        "\n",
        "like wise for all other elememts.\n",
        "\n",
        "`[2,4,6,10,1]`-->`[22,20,16,10,23]`\n",
        "\n",
        "\n"
      ],
      "metadata": {
        "id": "2ztcZ-EW1HEU"
      }
    },
    {
      "cell_type": "code",
      "source": [
        "list1 = [2,4,6,10,1]\n",
        "L=[]\n",
        "for i in range(0,len(list1)):\n",
        "  sum=0\n",
        "  for j in list1:\n",
        "    if list1[i]<=j:\n",
        "      sum = list1[i]+sum\n",
        "  L.append(sum)\n",
        "L"
      ],
      "metadata": {
        "id": "UJuWqzj31UD2",
        "colab": {
          "base_uri": "https://localhost:8080/"
        },
        "outputId": "bdd78c36-65fd-40b8-ea47-81f95c844e02"
      },
      "execution_count": 27,
      "outputs": [
        {
          "output_type": "execute_result",
          "data": {
            "text/plain": [
              "[8, 12, 12, 10, 5]"
            ]
          },
          "metadata": {},
          "execution_count": 27
        }
      ]
    },
    {
      "cell_type": "markdown",
      "source": [
        "###`Problem 6:` Find list of common unique items from two list. and show in increasing order\n",
        "\n",
        "`Input`\n",
        "\n",
        "```\n",
        "num1 = [23,45,67,78,89,34]\n",
        "num2 = [34,89,55,56,39,67]\n",
        "```\n",
        "\n",
        "`Output:`\n",
        "```\n",
        "[34, 67, 89]\n",
        "```\n"
      ],
      "metadata": {
        "id": "c9H6tYTx1ZYo"
      }
    },
    {
      "cell_type": "code",
      "source": [
        "num1 = [23,45,67,78,89,34]\n",
        "num2 = [34,89,55,56,39,67]\n",
        "L = []\n",
        "for i in num1:\n",
        "  if i in num2:\n",
        "    L.append(i)\n",
        "print(sorted(L))\n"
      ],
      "metadata": {
        "id": "dDxdi7eE1e1W",
        "colab": {
          "base_uri": "https://localhost:8080/"
        },
        "outputId": "6d7f6e80-b70e-474d-b968-4fa08e75f98c"
      },
      "execution_count": 32,
      "outputs": [
        {
          "output_type": "stream",
          "name": "stdout",
          "text": [
            "[34, 67, 89]\n"
          ]
        }
      ]
    },
    {
      "cell_type": "markdown",
      "source": [
        "###`Problem 7:` Sort a list of alphanumeric strings based on product value of numeric character in it. If in any string there is no numeric character take it's product value as 1.\n",
        "\n",
        "`Input:`\n",
        "```\n",
        "['1ac21', '23fg', '456', '098d','1','kls']\n",
        "```\n",
        "\n",
        "`Output:`\n",
        "```\n",
        "['456', '23fg', '1ac21', '1', 'kls', '098d']\n",
        "\n",
        "```"
      ],
      "metadata": {
        "id": "i3Izok2i1gRD"
      }
    },
    {
      "cell_type": "code",
      "source": [
        "L = ['1ac21', '23fg', '456', '098d','1','kls']\n",
        "result = []\n",
        "mul = 1\n",
        "for i in L:\n",
        "  mul = 1\n",
        "  for j in i:\n",
        "    if j.isdigit():\n",
        "      mul = int(j)*mul\n",
        "  result.append([mul,i])\n",
        "print(sorted(result,reverse=True))\n"
      ],
      "metadata": {
        "id": "eiXSanG11oq6",
        "colab": {
          "base_uri": "https://localhost:8080/"
        },
        "outputId": "135523ba-a220-4208-d1f5-98210db55e5a"
      },
      "execution_count": 7,
      "outputs": [
        {
          "output_type": "stream",
          "name": "stdout",
          "text": [
            "[[120, '456'], [6, '23fg'], [2, '1ac21'], [1, 'kls'], [1, '1'], [0, '098d']]\n"
          ]
        }
      ]
    },
    {
      "cell_type": "code",
      "source": [
        "list1 = []\n",
        "for i in sorted(result,reverse=True):\n",
        "  list1.append(i[1])\n",
        "print(list1)"
      ],
      "metadata": {
        "colab": {
          "base_uri": "https://localhost:8080/"
        },
        "id": "XhHsLTT835w4",
        "outputId": "39a6313e-35e8-4c82-93e5-03c65326aa79"
      },
      "execution_count": 8,
      "outputs": [
        {
          "output_type": "stream",
          "name": "stdout",
          "text": [
            "['456', '23fg', '1ac21', 'kls', '1', '098d']\n"
          ]
        }
      ]
    },
    {
      "cell_type": "markdown",
      "source": [
        "`Problem 8:` Split String of list on K character.\n",
        "\n",
        "**Example :**\n",
        "\n",
        "Input:\n",
        "```bash\n",
        "['CampusX is a channel', 'for data-science', 'aspirants.']\n",
        "```\n",
        "\n",
        "Output:\n",
        "```bash\n",
        "['CampusX', 'is', 'a', 'channel', 'for', 'data-science', 'aspirants.']\n",
        "```"
      ],
      "metadata": {
        "id": "McMaNSpB1zJB"
      }
    },
    {
      "cell_type": "code",
      "source": [
        "L = ['CampusX is a channel', 'for data-science', 'aspirants.','hello I am Aman Agrawal','I study in IIT Roorkee']\n",
        "l3=[]\n",
        "for i in L:\n",
        "  l1 = i.split(' ')\n",
        "  l2 = [i for i in l1]\n",
        "  l3 = l3 + l2\n",
        "print(l3)"
      ],
      "metadata": {
        "id": "rLg6AUhf14wI",
        "colab": {
          "base_uri": "https://localhost:8080/"
        },
        "outputId": "4d9b1562-d113-431e-e27d-4b9c7be58b37"
      },
      "execution_count": 34,
      "outputs": [
        {
          "output_type": "stream",
          "name": "stdout",
          "text": [
            "['CampusX', 'is', 'a', 'channel', 'for', 'data-science', 'aspirants.', 'hello', 'I', 'am', 'Aman', 'Agrawal', 'I', 'study', 'in', 'IIT', 'Roorkee']\n"
          ]
        }
      ]
    },
    {
      "cell_type": "markdown",
      "source": [
        "### `Problem 9:` Convert Character Matrix to single String using string comprehension.\n",
        "\n",
        "**Example 1:**\n",
        "\n",
        "Input:\n",
        "```bash\n",
        "[['c', 'a', 'm', 'p', 'u', 'x'], ['i', 's'], ['b', 'e', 's', 't'], ['c', 'h', 'a', 'n', 'n', 'e', 'l']]\n",
        "```\n",
        "\n",
        "Output:\n",
        "```bash\n",
        "campux is best channel\n",
        "```"
      ],
      "metadata": {
        "id": "ebqIC0Xa16dG"
      }
    },
    {
      "cell_type": "code",
      "source": [
        "L = [['c', 'a', 'm', 'p', 'u', 'x'], ['i', 's'], ['b', 'e', 's', 't'], ['c', 'h', 'a', 'n', 'n', 'e', 'l']]\n",
        "s = ''\n",
        "for i in L:\n",
        "  s = s + ''.join(i)\n",
        "  s = s + ' '\n",
        "print(s)"
      ],
      "metadata": {
        "id": "KLKxzyZf2BLr",
        "colab": {
          "base_uri": "https://localhost:8080/"
        },
        "outputId": "bc392863-8a9f-4126-84fb-373358f687fe"
      },
      "execution_count": 35,
      "outputs": [
        {
          "output_type": "stream",
          "name": "stdout",
          "text": [
            "campux is best channel \n"
          ]
        }
      ]
    },
    {
      "cell_type": "markdown",
      "source": [
        "### `Problem 10:` Add Space between Potential Words.\n",
        "\n",
        "**Example:**\n",
        "\n",
        "Input:\n",
        "\n",
        "```bash\n",
        "['campusxIs', 'bestFor', 'dataScientist']\n",
        "```\n",
        "\n",
        "Output:\n",
        "```bash\n",
        "['campusx Is', 'best For', 'data Scientist']\n",
        "```"
      ],
      "metadata": {
        "id": "0v1Z3Snp2DAm"
      }
    },
    {
      "cell_type": "code",
      "source": [
        "L = ['campusxIsHelloWorld', 'bestFor', 'dataScientist']\n",
        "l = []\n",
        "s = ''\n",
        "for i in L:\n",
        "  k=0\n",
        "  for j in range(0,len(i)):\n",
        "    if i[j].isupper():\n",
        "      index = j\n",
        "      s = s + i[k:index]\n",
        "      k=index\n",
        "      s = s + ' '\n",
        "  s = s + i[index:]\n",
        "  l.append(s)\n",
        "  s = ''\n",
        "print(l)\n",
        "#This was a good question."
      ],
      "metadata": {
        "id": "pltvqSXa2IxP",
        "colab": {
          "base_uri": "https://localhost:8080/"
        },
        "outputId": "8d30fea4-4495-43ab-af14-1b402d542687"
      },
      "execution_count": 42,
      "outputs": [
        {
          "output_type": "stream",
          "name": "stdout",
          "text": [
            "['campusx Is Hello World', 'best For', 'data Scientist']\n"
          ]
        }
      ]
    },
    {
      "cell_type": "markdown",
      "source": [
        "### `Problem 11:` Write a program that can perform union operation on 2 lists\n",
        "\n",
        "**Example:**\n",
        "\n",
        "Input:\n",
        "\n",
        "```bash\n",
        "[1,2,3,4,5,1]\n",
        "[2,3,5,7,8]\n",
        "```\n",
        "\n",
        "Output:\n",
        "```bash\n",
        "[1,2,3,4,5,7,8]\n",
        "```"
      ],
      "metadata": {
        "id": "tnmBk1M52KXW"
      }
    },
    {
      "cell_type": "code",
      "source": [
        "l1 = [1,2,3,4,5,1,2,2,2,2,4,4,3,5,5]\n",
        "l2 = [2,3,5,7,8,9]\n",
        "l3=[]\n",
        "l4=[]\n",
        "l1.sort()\n",
        "l2.sort()\n",
        "for i in range(0,len(l1)-1):\n",
        "  if l1[i]!=l1[i+1]:\n",
        "    l3.append(l1[i])\n",
        "l3.append(l1[-1])\n",
        "for i in range(0,len(l2)-1):\n",
        "  if l2[i]!=l2[i+1]:\n",
        "    l4.append(l2[i])\n",
        "l4.append(l2[-1])\n",
        "print(l3)\n",
        "print(l4)\n"
      ],
      "metadata": {
        "id": "u0AgIToU2-Ht",
        "colab": {
          "base_uri": "https://localhost:8080/"
        },
        "outputId": "4c6b992f-676e-4350-80df-7b285bf322e4"
      },
      "execution_count": 47,
      "outputs": [
        {
          "output_type": "stream",
          "name": "stdout",
          "text": [
            "[1, 2, 3, 4, 5]\n",
            "[2, 3, 5, 7, 8, 9]\n"
          ]
        }
      ]
    },
    {
      "cell_type": "markdown",
      "source": [
        "### `Problem 12:` Write a program that can find the max number of each row of a matrix\n",
        "\n",
        "**Example:**\n",
        "\n",
        "Input:\n",
        "\n",
        "```bash\n",
        "[[1,2,3],[4,5,6],[7,8,9]]\n",
        "```\n",
        "\n",
        "Output:\n",
        "```bash\n",
        "[3,6,9]\n",
        "```"
      ],
      "metadata": {
        "id": "Yt8x67Ch3Ow1"
      }
    },
    {
      "cell_type": "code",
      "source": [
        "L = [[1,2,3],[4,5,6],[7,8,9]]\n",
        "l1 = []\n",
        "for i in L:\n",
        "  a = max(i)\n",
        "  l1.append(a)\n",
        "l1"
      ],
      "metadata": {
        "id": "7QopAaAI3noh",
        "colab": {
          "base_uri": "https://localhost:8080/"
        },
        "outputId": "aeacca94-14a9-444c-f4a4-bc56171a108e"
      },
      "execution_count": 49,
      "outputs": [
        {
          "output_type": "execute_result",
          "data": {
            "text/plain": [
              "[3, 6, 9]"
            ]
          },
          "metadata": {},
          "execution_count": 49
        }
      ]
    },
    {
      "cell_type": "markdown",
      "source": [
        "### `Problem 13:` Write a list comprehension to print the following matrix\n",
        "\n",
        "[[0, 1, 2], [3, 4, 5], [6, 7, 8]]"
      ],
      "metadata": {
        "id": "DBZlUmnt3pGT"
      }
    },
    {
      "cell_type": "code",
      "source": [
        "[[i for i in range(0,3)]]"
      ],
      "metadata": {
        "id": "Ip4e8M-S356h",
        "colab": {
          "base_uri": "https://localhost:8080/"
        },
        "outputId": "0dd83313-54a5-4a82-d4c9-d8e3532d0ea2"
      },
      "execution_count": 51,
      "outputs": [
        {
          "output_type": "execute_result",
          "data": {
            "text/plain": [
              "[[0, 1, 2]]"
            ]
          },
          "metadata": {},
          "execution_count": 51
        }
      ]
    },
    {
      "cell_type": "markdown",
      "source": [
        "### `Problem 14:` Write a list comprehension that can transpose a given matrix\n",
        "\n",
        "matrix = [<br>\n",
        "  [1,2,3],<br>\n",
        "          [4,5,6],<br>\n",
        "          [7,8,9]<br>]<br>\n",
        "\n",
        "[1, 4, 7]<br>\n",
        "[2, 5, 8]<br>\n",
        "[3, 6, 9]<br>"
      ],
      "metadata": {
        "id": "j3vTuFC737kG"
      }
    },
    {
      "cell_type": "code",
      "source": [
        "# Write code here"
      ],
      "metadata": {
        "id": "CcBNu0gk4XsR"
      },
      "execution_count": null,
      "outputs": []
    },
    {
      "cell_type": "markdown",
      "source": [
        "### `Problem 15:` Write a list comprehension that can flatten a nested list\n",
        "\n",
        "Input<br>\n",
        "matrix = [<br>\n",
        "  [1,2,3],<br>\n",
        "          [4,5,6],<br>\n",
        "          [7,8,9]<br>]<br>\n",
        "\n",
        "Output:<br>\n",
        "[1, 2, 3, 4, 5, 6, 7, 8, 9]"
      ],
      "metadata": {
        "id": "wRkSWFb74eOt"
      }
    },
    {
      "cell_type": "code",
      "source": [
        "# Write code here"
      ],
      "metadata": {
        "id": "jZGQ5el25HFr"
      },
      "execution_count": null,
      "outputs": []
    },
    {
      "cell_type": "code",
      "source": [
        "Question Done\n",
        "1 2 4 6 7 8 9 10 11 12"
      ],
      "metadata": {
        "id": "0GkuyE9M4x7U"
      },
      "execution_count": null,
      "outputs": []
    }
  ]
}